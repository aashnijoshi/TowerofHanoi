{
  "nbformat": 4,
  "nbformat_minor": 0,
  "metadata": {
    "colab": {
      "name": "TOWER OF HANOI.ipynb",
      "provenance": [],
      "authorship_tag": "ABX9TyOEJMV2t/pD/8/Pss+IeO24",
      "include_colab_link": true
    },
    "kernelspec": {
      "name": "python3",
      "display_name": "Python 3"
    },
    "language_info": {
      "name": "python"
    }
  },
  "cells": [
    {
      "cell_type": "markdown",
      "metadata": {
        "id": "view-in-github",
        "colab_type": "text"
      },
      "source": [
        "<a href=\"https://colab.research.google.com/github/aashnijoshi/TowerofHanoi/blob/main/TOWER_OF_HANOI.ipynb\" target=\"_parent\"><img src=\"https://colab.research.google.com/assets/colab-badge.svg\" alt=\"Open In Colab\"/></a>"
      ]
    },
    {
      "cell_type": "code",
      "execution_count": 1,
      "metadata": {
        "colab": {
          "base_uri": "https://localhost:8080/"
        },
        "id": "_TICBL1xF0T0",
        "outputId": "a058402a-89c8-4cc2-805d-c78316fe05f1"
      },
      "outputs": [
        {
          "output_type": "stream",
          "name": "stdout",
          "text": [
            "enter number of disk4\n",
            "move disk 1 from A to C\n",
            "move disk 2 from A to B\n",
            "move disk 1 from C to B\n",
            "move disk 3 from A to C\n",
            "move disk 1 from B to A\n",
            "move disk 2 from B to C\n",
            "move disk 1 from A to C\n",
            "move disk 4 from A to B\n",
            "move disk 1 from C to B\n",
            "move disk 2 from C to A\n",
            "move disk 1 from B to A\n",
            "move disk 3 from C to B\n",
            "move disk 1 from A to C\n",
            "move disk 2 from A to B\n",
            "move disk 1 from C to B\n"
          ]
        }
      ],
      "source": [
        "def TOH(n, source, dest, middle):\n",
        "    if n<1:\n",
        "        print(\"not possible\")\n",
        "        return\n",
        "    if n==1:\n",
        "        print(\"move disk {} from {} to {}\".format(n,source,dest))\n",
        "        return \n",
        "    TOH(n-1,source,middle,dest)\n",
        "    print(\"move disk {} from {} to {}\".format(n,source,dest))\n",
        "    TOH(n-1,middle,dest,source)\n",
        "    \n",
        "    \n",
        "n=int(input(\"enter number of disk\"))    \n",
        "TOH(n,\"A\",'B','C')"
      ]
    }
  ]
}